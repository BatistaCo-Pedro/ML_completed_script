{
 "cells": [
  {
   "cell_type": "code",
   "execution_count": 1,
   "id": "94026305-93b0-490a-a92f-da2c108be797",
   "metadata": {},
   "outputs": [],
   "source": [
    "#SVD - Singular Value Decomposition\n",
    "# https://towardsdatascience.com/singular-value-decomposition-example-in-python-dab2507d85a0"
   ]
  },
  {
   "cell_type": "code",
   "execution_count": 4,
   "id": "e6fab877-b258-4f43-93d9-39d6edc66077",
   "metadata": {},
   "outputs": [],
   "source": [
    "from sklearn.datasets import load_digits\n",
    "from matplotlib import pyplot as plt\n",
    "from sklearn.decomposition import TruncatedSVD\n",
    "import numpy as np\n",
    "float_formatter = lambda x: \"%.2f\" % x\n",
    "np.set_printoptions(formatter={'float_kind':float_formatter})\n",
    "from sklearn.ensemble import RandomForestClassifier\n"
   ]
  },
  {
   "cell_type": "code",
   "execution_count": 5,
   "id": "096f7b84-fa4d-45e5-9423-391f39196cad",
   "metadata": {},
   "outputs": [],
   "source": [
    "X, y = load_digits(return_X_y=True)"
   ]
  },
  {
   "cell_type": "code",
   "execution_count": 6,
   "id": "c014ac55-4d38-42e6-8ea6-db862a1287af",
   "metadata": {},
   "outputs": [
    {
     "data": {
      "text/plain": [
       "(1797, 64)"
      ]
     },
     "execution_count": 6,
     "metadata": {},
     "output_type": "execute_result"
    }
   ],
   "source": [
    "X.shape"
   ]
  },
  {
   "cell_type": "code",
   "execution_count": 7,
   "id": "e226dcfd-8db4-478f-baa5-b85206c1fb7e",
   "metadata": {},
   "outputs": [
    {
     "data": {
      "text/plain": [
       "array([0, 1, 2, ..., 8, 9, 8])"
      ]
     },
     "execution_count": 7,
     "metadata": {},
     "output_type": "execute_result"
    }
   ],
   "source": [
    "y"
   ]
  },
  {
   "cell_type": "code",
   "execution_count": 8,
   "id": "f6c68ee2-ef6c-47bb-937c-dd70d0862404",
   "metadata": {},
   "outputs": [
    {
     "data": {
      "text/plain": [
       "array([0.00, 0.00, 5.00, 13.00, 9.00, 1.00, 0.00, 0.00, 0.00, 0.00, 13.00,\n",
       "       15.00, 10.00, 15.00, 5.00, 0.00, 0.00, 3.00, 15.00, 2.00, 0.00,\n",
       "       11.00, 8.00, 0.00, 0.00, 4.00, 12.00, 0.00, 0.00, 8.00, 8.00, 0.00,\n",
       "       0.00, 5.00, 8.00, 0.00, 0.00, 9.00, 8.00, 0.00, 0.00, 4.00, 11.00,\n",
       "       0.00, 1.00, 12.00, 7.00, 0.00, 0.00, 2.00, 14.00, 5.00, 10.00,\n",
       "       12.00, 0.00, 0.00, 0.00, 0.00, 6.00, 13.00, 10.00, 0.00, 0.00,\n",
       "       0.00])"
      ]
     },
     "execution_count": 8,
     "metadata": {},
     "output_type": "execute_result"
    }
   ],
   "source": [
    "image = X[0]\n",
    "image"
   ]
  },
  {
   "cell_type": "code",
   "execution_count": 9,
   "id": "ffae3538-44df-412b-a178-4b6a9bab1bb2",
   "metadata": {},
   "outputs": [
    {
     "data": {
      "text/plain": [
       "<matplotlib.image.AxesImage at 0x2ce56474730>"
      ]
     },
     "execution_count": 9,
     "metadata": {},
     "output_type": "execute_result"
    },
    {
     "data": {
      "image/png": "[encoded data removed]",
      "text/plain": [
       "<Figure size 480x480 with 1 Axes>"
      ]
     },
     "metadata": {},
     "output_type": "display_data"
    }
   ],
   "source": [
    "image = image.reshape((8, 8))\n",
    "plt.matshow(image, cmap = 'gray')"
   ]
  },
  {
   "cell_type": "code",
   "execution_count": 10,
   "id": "166a0e11-ece5-47dd-a6d1-1d400b1523f8",
   "metadata": {},
   "outputs": [
    {
     "name": "stdout",
     "output_type": "stream",
     "text": [
      "[[0.00 -1.10 4.74 12.16 9.52 2.44 -1.33 0.00]\n",
      " [0.00 1.81 15.31 13.79 11.23 12.27 4.48 0.00]\n",
      " [0.00 3.86 13.36 1.19 1.49 12.59 7.65 0.00]\n",
      " [0.00 3.39 10.76 -0.35 0.20 10.36 6.61 0.00]\n",
      " [0.00 3.11 9.52 -0.85 -0.24 9.26 6.04 0.00]\n",
      " [0.00 3.61 11.79 0.12 0.60 11.27 7.07 0.00]\n",
      " [0.00 2.08 12.63 8.58 7.13 10.60 4.66 0.00]\n",
      " [0.00 -1.18 4.88 12.71 9.96 2.47 -1.44 0.00]]\n"
     ]
    }
   ],
   "source": [
    "U, s, V = np.linalg.svd(image)\n",
    "S = np.zeros((image.shape[0], image.shape[1]))\n",
    "S[:image.shape[0], :image.shape[0]] = np.diag(s)\n",
    "n_component = 2\n",
    "S = S[:, :n_component]\n",
    "VT = V[:n_component, :]\n",
    "A = U.dot(S.dot(VT))\n",
    "print(A)"
   ]
  },
  {
   "cell_type": "code",
   "execution_count": 11,
   "id": "61956809-dd9d-438b-b809-11a8e951a63e",
   "metadata": {},
   "outputs": [
    {
     "data": {
      "text/plain": [
       "<matplotlib.image.AxesImage at 0x2ce5629e730>"
      ]
     },
     "execution_count": 11,
     "metadata": {},
     "output_type": "execute_result"
    },
    {
     "data": {
      "image/png": "[encoded data removed]",
      "text/plain": [
       "<Figure size 480x480 with 1 Axes>"
      ]
     },
     "metadata": {},
     "output_type": "display_data"
    }
   ],
   "source": [
    "plt.matshow(A, cmap = 'gray')"
   ]
  },
  {
   "cell_type": "code",
   "execution_count": 12,
   "id": "5430e62a-ea62-41d9-9a52-c737d0603907",
   "metadata": {},
   "outputs": [
    {
     "data": {
      "text/plain": [
       "array([[10.97, -12.23],\n",
       "       [26.04, -6.82],\n",
       "       [18.73, 7.95],\n",
       "       [14.60, 8.08],\n",
       "       [12.72, 7.84],\n",
       "       [16.19, 8.21],\n",
       "       [20.45, -2.05],\n",
       "       [11.36, -12.85]])"
      ]
     },
     "execution_count": 12,
     "metadata": {},
     "output_type": "execute_result"
    }
   ],
   "source": [
    "U.dot(S)"
   ]
  },
  {
   "cell_type": "code",
   "execution_count": 13,
   "id": "42d993e6-0cac-4574-9b5b-0251c334e962",
   "metadata": {},
   "outputs": [
    {
     "data": {
      "text/plain": [
       "RandomForestClassifier(oob_score=True)"
      ]
     },
     "execution_count": 13,
     "metadata": {},
     "output_type": "execute_result"
    }
   ],
   "source": [
    "rf_original = RandomForestClassifier(oob_score=True)\n",
    "rf_original.fit(X, y)"
   ]
  },
  {
   "cell_type": "code",
   "execution_count": 14,
   "id": "e30fa359-f3b4-4487-ba2c-cfac90d6f42b",
   "metadata": {},
   "outputs": [
    {
     "data": {
      "text/plain": [
       "0.9782971619365609"
      ]
     },
     "execution_count": 14,
     "metadata": {},
     "output_type": "execute_result"
    }
   ],
   "source": [
    "rf_original.oob_score_"
   ]
  },
  {
   "cell_type": "code",
   "execution_count": 15,
   "id": "80c9b485-66d0-410d-a88d-222afd0c1d9d",
   "metadata": {},
   "outputs": [],
   "source": [
    "svd = TruncatedSVD(n_components=2)\n",
    "X_reduced = svd.fit_transform(X)"
   ]
  },
  {
   "cell_type": "code",
   "execution_count": 16,
   "id": "baaac180-cea9-49c2-a2fe-1f97ec88fd1e",
   "metadata": {},
   "outputs": [
    {
     "data": {
      "text/plain": [
       "array([45.86, -1.19])"
      ]
     },
     "execution_count": 16,
     "metadata": {},
     "output_type": "execute_result"
    }
   ],
   "source": [
    "X_reduced[0]"
   ]
  },
  {
   "cell_type": "code",
   "execution_count": 17,
   "id": "3bd58bef-43db-4717-858a-e92e859f869d",
   "metadata": {},
   "outputs": [
    {
     "data": {
      "text/plain": [
       "<matplotlib.image.AxesImage at 0x2ce56442be0>"
      ]
     },
     "execution_count": 17,
     "metadata": {},
     "output_type": "execute_result"
    },
    {
     "data": {
      "image/png": "[encoded data removed]",
      "text/plain": [
       "<Figure size 480x480 with 1 Axes>"
      ]
     },
     "metadata": {},
     "output_type": "display_data"
    }
   ],
   "source": [
    "image_reduced = svd.inverse_transform(X_reduced[0].reshape(1,-1))\n",
    "image_reduced = image_reduced.reshape((8,8))\n",
    "plt.matshow(image_reduced, cmap = 'gray')"
   ]
  },
  {
   "cell_type": "code",
   "execution_count": 18,
   "id": "1ce3bc58-6d25-4713-8be8-eff37bf7d705",
   "metadata": {},
   "outputs": [
    {
     "data": {
      "text/plain": [
       "0.39565943238731216"
      ]
     },
     "execution_count": 18,
     "metadata": {},
     "output_type": "execute_result"
    }
   ],
   "source": [
    "rf_reduced = RandomForestClassifier(oob_score=True)\n",
    "rf_reduced.fit(X_reduced, y)\n",
    "rf_reduced.oob_score_"
   ]
  },
  {
   "cell_type": "code",
   "execution_count": 32,
   "id": "6e4c4de9-9058-4345-b02b-b31c55167e34",
   "metadata": {},
   "outputs": [
    {
     "data": {
      "text/plain": [
       "0.17760900855266876"
      ]
     },
     "execution_count": 32,
     "metadata": {},
     "output_type": "execute_result"
    }
   ],
   "source": [
    "svd.explained_variance_ratio_.sum()"
   ]
  },
  {
   "cell_type": "code",
   "execution_count": 33,
   "id": "fcc6844e-8c7e-4963-aaa4-744f0193eda5",
   "metadata": {},
   "outputs": [
    {
     "data": {
      "text/plain": [
       "0.8479577686600934"
      ]
     },
     "execution_count": 33,
     "metadata": {},
     "output_type": "execute_result"
    }
   ],
   "source": [
    "svd = TruncatedSVD(n_components=16)\n",
    "X_reduced = svd.fit_transform(X)\n",
    "svd.explained_variance_ratio_.sum()\n"
   ]
  },
  {
   "cell_type": "code",
   "execution_count": 34,
   "id": "d136d475-db1c-4a00-92cc-9f4c74b5e2a5",
   "metadata": {},
   "outputs": [
    {
     "data": {
      "text/plain": [
       "0.9616026711185309"
      ]
     },
     "execution_count": 34,
     "metadata": {},
     "output_type": "execute_result"
    }
   ],
   "source": [
    "rf_reduced = RandomForestClassifier(oob_score=True)\n",
    "rf_reduced.fit(X_reduced, y)\n",
    "rf_reduced.oob_score_"
   ]
  },
  {
   "cell_type": "code",
   "execution_count": null,
   "id": "1dd2e057-27c0-44f1-aea5-2bbcc4348761",
   "metadata": {},
   "outputs": [],
   "source": []
  }
 ],
 "metadata": {
  "kernelspec": {
   "display_name": "Python 3 (ipykernel)",
   "language": "python",
   "name": "python3"
  },
  "language_info": {
   "codemirror_mode": {
    "name": "ipython",
    "version": 3
   },
   "file_extension": ".py",
   "mimetype": "text/x-python",
   "name": "python",
   "nbconvert_exporter": "python",
   "pygments_lexer": "ipython3",
   "version": "3.9.13"
  }
 },
 "nbformat": 4,
 "nbformat_minor": 5
}
