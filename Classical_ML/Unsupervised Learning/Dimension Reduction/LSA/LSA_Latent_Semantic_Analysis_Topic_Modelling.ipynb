{
 "cells": [
  {
   "cell_type": "code",
   "execution_count": null,
   "id": "13d78607-48e9-4c35-b40c-7171a8456225",
   "metadata": {},
   "outputs": [],
   "source": [
    "#Topic Modeling with Latent Semantic Analysis\n",
    "#https://towardsdatascience.com/topic-modeling-with-latent-semantic-analysis-58aeab6ab2f2"
   ]
  },
  {
   "cell_type": "code",
   "execution_count": 2,
   "id": "140ff1ad-bedf-4576-a632-303ddbfd6a06",
   "metadata": {},
   "outputs": [
    {
     "data": {
      "text/html": [
       "<div>\n",
       "<style scoped>\n",
       "    .dataframe tbody tr th:only-of-type {\n",
       "        vertical-align: middle;\n",
       "    }\n",
       "\n",
       "    .dataframe tbody tr th {\n",
       "        vertical-align: top;\n",
       "    }\n",
       "\n",
       "    .dataframe thead th {\n",
       "        text-align: right;\n",
       "    }\n",
       "</style>\n",
       "<table border=\"1\" class=\"dataframe\">\n",
       "  <thead>\n",
       "    <tr style=\"text-align: right;\">\n",
       "      <th></th>\n",
       "      <th>reviewerID</th>\n",
       "      <th>reviewText</th>\n",
       "    </tr>\n",
       "  </thead>\n",
       "  <tbody>\n",
       "    <tr>\n",
       "      <th>0</th>\n",
       "      <td>A2IBPI20UZIR0U</td>\n",
       "      <td>Not much to write about here, but it does exac...</td>\n",
       "    </tr>\n",
       "    <tr>\n",
       "      <th>1</th>\n",
       "      <td>A14VAT5EAX3D9S</td>\n",
       "      <td>The product does exactly as it should and is q...</td>\n",
       "    </tr>\n",
       "    <tr>\n",
       "      <th>2</th>\n",
       "      <td>A195EZSQDW3E21</td>\n",
       "      <td>The primary job of this device is to block the...</td>\n",
       "    </tr>\n",
       "    <tr>\n",
       "      <th>3</th>\n",
       "      <td>A2C00NNG1ZQQG2</td>\n",
       "      <td>Nice windscreen protects my MXL mic and preven...</td>\n",
       "    </tr>\n",
       "    <tr>\n",
       "      <th>4</th>\n",
       "      <td>A94QU4C90B1AX</td>\n",
       "      <td>This pop filter is great. It looks and perform...</td>\n",
       "    </tr>\n",
       "  </tbody>\n",
       "</table>\n",
       "</div>"
      ],
      "text/plain": [
       "       reviewerID                                         reviewText\n",
       "0  A2IBPI20UZIR0U  Not much to write about here, but it does exac...\n",
       "1  A14VAT5EAX3D9S  The product does exactly as it should and is q...\n",
       "2  A195EZSQDW3E21  The primary job of this device is to block the...\n",
       "3  A2C00NNG1ZQQG2  Nice windscreen protects my MXL mic and preven...\n",
       "4   A94QU4C90B1AX  This pop filter is great. It looks and perform..."
      ]
     },
     "execution_count": 2,
     "metadata": {},
     "output_type": "execute_result"
    }
   ],
   "source": [
    "\n",
    "import pandas as pd\n",
    "path_to_csv = r\"C:\\Users\\User\\Documents\\BFO Berufsfachschule Oberwallis\\Module\\Modul Md259 - Machine Learning\\Kursmaterial\\Amazon musical instruments review\\Musical_instruments_reviews.csv\"\n",
    "# load data\n",
    "df = pd.read_csv(path_to_csv, usecols=['reviewerID', 'reviewText'])\n",
    "df.head()"
   ]
  },
  {
   "cell_type": "code",
   "execution_count": 3,
   "id": "e39812ef-205d-4428-9cdf-bc123579dac0",
   "metadata": {},
   "outputs": [
    {
     "data": {
      "text/html": [
       "<div>\n",
       "<style scoped>\n",
       "    .dataframe tbody tr th:only-of-type {\n",
       "        vertical-align: middle;\n",
       "    }\n",
       "\n",
       "    .dataframe tbody tr th {\n",
       "        vertical-align: top;\n",
       "    }\n",
       "\n",
       "    .dataframe thead th {\n",
       "        text-align: right;\n",
       "    }\n",
       "</style>\n",
       "<table border=\"1\" class=\"dataframe\">\n",
       "  <thead>\n",
       "    <tr style=\"text-align: right;\">\n",
       "      <th></th>\n",
       "      <th>reviewerID</th>\n",
       "      <th>reviewText</th>\n",
       "    </tr>\n",
       "  </thead>\n",
       "  <tbody>\n",
       "    <tr>\n",
       "      <th>0</th>\n",
       "      <td>False</td>\n",
       "      <td>False</td>\n",
       "    </tr>\n",
       "    <tr>\n",
       "      <th>1</th>\n",
       "      <td>False</td>\n",
       "      <td>False</td>\n",
       "    </tr>\n",
       "    <tr>\n",
       "      <th>2</th>\n",
       "      <td>False</td>\n",
       "      <td>False</td>\n",
       "    </tr>\n",
       "    <tr>\n",
       "      <th>3</th>\n",
       "      <td>False</td>\n",
       "      <td>False</td>\n",
       "    </tr>\n",
       "    <tr>\n",
       "      <th>4</th>\n",
       "      <td>False</td>\n",
       "      <td>False</td>\n",
       "    </tr>\n",
       "    <tr>\n",
       "      <th>...</th>\n",
       "      <td>...</td>\n",
       "      <td>...</td>\n",
       "    </tr>\n",
       "    <tr>\n",
       "      <th>10256</th>\n",
       "      <td>False</td>\n",
       "      <td>False</td>\n",
       "    </tr>\n",
       "    <tr>\n",
       "      <th>10257</th>\n",
       "      <td>False</td>\n",
       "      <td>False</td>\n",
       "    </tr>\n",
       "    <tr>\n",
       "      <th>10258</th>\n",
       "      <td>False</td>\n",
       "      <td>False</td>\n",
       "    </tr>\n",
       "    <tr>\n",
       "      <th>10259</th>\n",
       "      <td>False</td>\n",
       "      <td>False</td>\n",
       "    </tr>\n",
       "    <tr>\n",
       "      <th>10260</th>\n",
       "      <td>False</td>\n",
       "      <td>False</td>\n",
       "    </tr>\n",
       "  </tbody>\n",
       "</table>\n",
       "<p>10261 rows × 2 columns</p>\n",
       "</div>"
      ],
      "text/plain": [
       "       reviewerID  reviewText\n",
       "0           False       False\n",
       "1           False       False\n",
       "2           False       False\n",
       "3           False       False\n",
       "4           False       False\n",
       "...           ...         ...\n",
       "10256       False       False\n",
       "10257       False       False\n",
       "10258       False       False\n",
       "10259       False       False\n",
       "10260       False       False\n",
       "\n",
       "[10261 rows x 2 columns]"
      ]
     },
     "execution_count": 3,
     "metadata": {},
     "output_type": "execute_result"
    }
   ],
   "source": [
    "df.isna()"
   ]
  },
  {
   "cell_type": "code",
   "execution_count": 4,
   "id": "82cccd63-49d0-408f-9c0b-cbd9c49256a9",
   "metadata": {},
   "outputs": [],
   "source": [
    "df=df.dropna()"
   ]
  },
  {
   "cell_type": "code",
   "execution_count": 5,
   "id": "aae015f8-1d0d-456a-b90c-5a3a7fd8d18b",
   "metadata": {},
   "outputs": [],
   "source": [
    "\n",
    "from gensim.parsing.preprocessing import remove_stopwords, strip_punctuation \\\n",
    "                                        , preprocess_string, strip_short, stem_text\n",
    "\n",
    "# preprocess given text\n",
    "def preprocess(text):\n",
    "    \n",
    "    # clean text based on given filters\n",
    "    CUSTOM_FILTERS = [lambda x: x.lower(), \n",
    "                                remove_stopwords, \n",
    "                                strip_punctuation, \n",
    "                                strip_short, \n",
    "                                stem_text]\n",
    "    text = preprocess_string(text, CUSTOM_FILTERS)\n",
    "    \n",
    "    return text"
   ]
  },
  {
   "cell_type": "code",
   "execution_count": 6,
   "id": "2f4c27ca-99bd-4533-9a64-175d97056421",
   "metadata": {},
   "outputs": [],
   "source": [
    "# apply function to all reviews \n",
    "df['Text (Clean)'] = df['reviewText'].apply(lambda x: preprocess(x))"
   ]
  },
  {
   "cell_type": "code",
   "execution_count": 7,
   "id": "4f2ebeda-7382-4ade-a7cf-a858fe808a23",
   "metadata": {},
   "outputs": [
    {
     "data": {
      "text/plain": [
       "0        [write, here, exactli, suppos, filter, pop, so...\n",
       "1        [product, exactli, afford, realiz, doubl, scre...\n",
       "2        [primari, job, devic, block, breath, produc, p...\n",
       "3        [nice, windscreen, protect, mxl, mic, prevent,...\n",
       "4        [pop, filter, great, look, perform, like, stud...\n",
       "                               ...                        \n",
       "10256                          [great, expect, thank, all]\n",
       "10257    [think, try, nanoweb, string, while, bit, high...\n",
       "10258    [tri, coat, string, past, includ, elixir, fond...\n",
       "10259    [well, elixir, develop, taylor, guitar, string...\n",
       "10260    [string, good, wouldn, perfect, unwound, strin...\n",
       "Name: Text (Clean), Length: 10254, dtype: object"
      ]
     },
     "execution_count": 7,
     "metadata": {},
     "output_type": "execute_result"
    }
   ],
   "source": [
    "df['Text (Clean)']"
   ]
  },
  {
   "cell_type": "code",
   "execution_count": null,
   "id": "a83746da-e2c3-4fe7-bd08-293a07de2db5",
   "metadata": {},
   "outputs": [],
   "source": []
  },
  {
   "cell_type": "code",
   "execution_count": 8,
   "id": "3dfd8118-11d2-4915-8d7e-3036f6ef8b58",
   "metadata": {},
   "outputs": [
    {
     "data": {
      "text/html": [
       "<div>\n",
       "<style scoped>\n",
       "    .dataframe tbody tr th:only-of-type {\n",
       "        vertical-align: middle;\n",
       "    }\n",
       "\n",
       "    .dataframe tbody tr th {\n",
       "        vertical-align: top;\n",
       "    }\n",
       "\n",
       "    .dataframe thead th {\n",
       "        text-align: right;\n",
       "    }\n",
       "</style>\n",
       "<table border=\"1\" class=\"dataframe\">\n",
       "  <thead>\n",
       "    <tr style=\"text-align: right;\">\n",
       "      <th></th>\n",
       "      <th>reviewerID</th>\n",
       "      <th>reviewText</th>\n",
       "      <th>Text (Clean)</th>\n",
       "    </tr>\n",
       "  </thead>\n",
       "  <tbody>\n",
       "    <tr>\n",
       "      <th>0</th>\n",
       "      <td>A2IBPI20UZIR0U</td>\n",
       "      <td>Not much to write about here, but it does exac...</td>\n",
       "      <td>[write, here, exactli, suppos, filter, pop, so...</td>\n",
       "    </tr>\n",
       "    <tr>\n",
       "      <th>1</th>\n",
       "      <td>A14VAT5EAX3D9S</td>\n",
       "      <td>The product does exactly as it should and is q...</td>\n",
       "      <td>[product, exactli, afford, realiz, doubl, scre...</td>\n",
       "    </tr>\n",
       "    <tr>\n",
       "      <th>2</th>\n",
       "      <td>A195EZSQDW3E21</td>\n",
       "      <td>The primary job of this device is to block the...</td>\n",
       "      <td>[primari, job, devic, block, breath, produc, p...</td>\n",
       "    </tr>\n",
       "    <tr>\n",
       "      <th>3</th>\n",
       "      <td>A2C00NNG1ZQQG2</td>\n",
       "      <td>Nice windscreen protects my MXL mic and preven...</td>\n",
       "      <td>[nice, windscreen, protect, mxl, mic, prevent,...</td>\n",
       "    </tr>\n",
       "    <tr>\n",
       "      <th>4</th>\n",
       "      <td>A94QU4C90B1AX</td>\n",
       "      <td>This pop filter is great. It looks and perform...</td>\n",
       "      <td>[pop, filter, great, look, perform, like, stud...</td>\n",
       "    </tr>\n",
       "  </tbody>\n",
       "</table>\n",
       "</div>"
      ],
      "text/plain": [
       "       reviewerID                                         reviewText  \\\n",
       "0  A2IBPI20UZIR0U  Not much to write about here, but it does exac...   \n",
       "1  A14VAT5EAX3D9S  The product does exactly as it should and is q...   \n",
       "2  A195EZSQDW3E21  The primary job of this device is to block the...   \n",
       "3  A2C00NNG1ZQQG2  Nice windscreen protects my MXL mic and preven...   \n",
       "4   A94QU4C90B1AX  This pop filter is great. It looks and perform...   \n",
       "\n",
       "                                        Text (Clean)  \n",
       "0  [write, here, exactli, suppos, filter, pop, so...  \n",
       "1  [product, exactli, afford, realiz, doubl, scre...  \n",
       "2  [primari, job, devic, block, breath, produc, p...  \n",
       "3  [nice, windscreen, protect, mxl, mic, prevent,...  \n",
       "4  [pop, filter, great, look, perform, like, stud...  "
      ]
     },
     "execution_count": 8,
     "metadata": {},
     "output_type": "execute_result"
    }
   ],
   "source": [
    "# preview of dataset\n",
    "df.head()"
   ]
  },
  {
   "cell_type": "code",
   "execution_count": 9,
   "id": "4d9f5d12-5218-48e8-b72d-f2930c23cfb5",
   "metadata": {},
   "outputs": [],
   "source": [
    "from gensim import corpora\n",
    "\n",
    "# create a dictionary with the corpus\n",
    "corpus = df['Text (Clean)']\n",
    "dictionary = corpora.Dictionary(corpus)\n",
    "\n",
    "# convert corpus into a bag of words\n",
    "bow = [dictionary.doc2bow(text) for text in corpus]"
   ]
  },
  {
   "cell_type": "code",
   "execution_count": 10,
   "id": "e4a0a4b2-940e-4140-8867-8ada8da4ec6f",
   "metadata": {},
   "outputs": [
    {
     "name": "stdout",
     "output_type": "stream",
     "text": [
      "Coherence score with 2 clusters: 0.45969944165248133\n",
      "Coherence score with 3 clusters: 0.4356385369065509\n",
      "Coherence score with 4 clusters: 0.3767490046089955\n",
      "Coherence score with 5 clusters: 0.38116016751232956\n",
      "Coherence score with 6 clusters: 0.3999360962341283\n",
      "Coherence score with 7 clusters: 0.3959616405974214\n",
      "Coherence score with 8 clusters: 0.3923282758009553\n",
      "Coherence score with 9 clusters: 0.40208198883710033\n",
      "Coherence score with 10 clusters: 0.4003625441754369\n"
     ]
    }
   ],
   "source": [
    "from gensim.models import LsiModel\n",
    "from gensim.models.coherencemodel import CoherenceModel\n",
    "\n",
    "# find the coherence score with a different number of topics\n",
    "for i in range(2,11):\n",
    "    lsi = LsiModel(bow, num_topics=i, id2word=dictionary)\n",
    "    coherence_model = CoherenceModel(model=lsi, texts=df['Text (Clean)'], dictionary=dictionary, coherence='c_v')\n",
    "    coherence_score = coherence_model.get_coherence()\n",
    "    print('Coherence score with {} clusters: {}'.format(i, coherence_score))"
   ]
  },
  {
   "cell_type": "code",
   "execution_count": 11,
   "id": "3376c772-483d-4280-8d93-4cbd37a5ca6a",
   "metadata": {},
   "outputs": [],
   "source": [
    "# perform SVD on the bag of words with the LsiModel to extract 2 topics\n",
    "lsi = LsiModel(bow, num_topics=2, id2word=dictionary)"
   ]
  },
  {
   "cell_type": "code",
   "execution_count": 12,
   "id": "d6e1d2a3-1d9f-4553-9917-c1f19b01be47",
   "metadata": {},
   "outputs": [
    {
     "name": "stdout",
     "output_type": "stream",
     "text": [
      "Words in 0: 0.329*\"sound\" + 0.314*\"guitar\" + 0.242*\"string\" + 0.232*\"pedal\" + 0.217*\"amp\".\n",
      "Words in 1: 0.584*\"string\" + -0.428*\"pedal\" + 0.380*\"guitar\" + -0.312*\"amp\" + 0.161*\"tune\".\n"
     ]
    }
   ],
   "source": [
    "# find the 5 words with the srongest association to the derived topics\n",
    "for topic_num, words in lsi.print_topics(num_words=5):\n",
    "    print('Words in {}: {}.'.format(topic_num, words))"
   ]
  },
  {
   "cell_type": "code",
   "execution_count": 13,
   "id": "5747add2-29dc-45d5-b411-761ebefddf95",
   "metadata": {},
   "outputs": [
    {
     "data": {
      "text/html": [
       "<div>\n",
       "<style scoped>\n",
       "    .dataframe tbody tr th:only-of-type {\n",
       "        vertical-align: middle;\n",
       "    }\n",
       "\n",
       "    .dataframe tbody tr th {\n",
       "        vertical-align: top;\n",
       "    }\n",
       "\n",
       "    .dataframe thead th {\n",
       "        text-align: right;\n",
       "    }\n",
       "</style>\n",
       "<table border=\"1\" class=\"dataframe\">\n",
       "  <thead>\n",
       "    <tr style=\"text-align: right;\">\n",
       "      <th></th>\n",
       "      <th>Text</th>\n",
       "      <th>Topic 0 score</th>\n",
       "      <th>Topic 1 score</th>\n",
       "      <th>Topic</th>\n",
       "    </tr>\n",
       "  </thead>\n",
       "  <tbody>\n",
       "    <tr>\n",
       "      <th>0</th>\n",
       "      <td>Not much to write about here, but it does exac...</td>\n",
       "      <td>0.88</td>\n",
       "      <td>-0.22</td>\n",
       "      <td>0</td>\n",
       "    </tr>\n",
       "  </tbody>\n",
       "</table>\n",
       "</div>"
      ],
      "text/plain": [
       "                                                Text  Topic 0 score  \\\n",
       "0  Not much to write about here, but it does exac...           0.88   \n",
       "\n",
       "   Topic 1 score  Topic  \n",
       "0          -0.22      0  "
      ]
     },
     "execution_count": 13,
     "metadata": {},
     "output_type": "execute_result"
    }
   ],
   "source": [
    "# find the scores given between the review and each topic\n",
    "corpus_lsi = lsi[bow]\n",
    "score1 = []\n",
    "score2 = []\n",
    "for doc in corpus_lsi:\n",
    "    score1.append(round(doc[0][1],2))\n",
    "    score2.append(round(doc[1][1],2))\n",
    "\n",
    "# create data frame that shows scores assigned for both topics for each review\n",
    "df_topic = pd.DataFrame()\n",
    "df_topic['Text'] = df['reviewText']\n",
    "df_topic['Topic 0 score'] = score1\n",
    "df_topic['Topic 1 score'] = score2\n",
    "df_topic['Topic']= df_topic[['Topic 0 score', 'Topic 1 score']].apply(lambda x: x.argmax(), axis=1)\n",
    "df_topic.head(1)"
   ]
  },
  {
   "cell_type": "code",
   "execution_count": 15,
   "id": "d17f945b-8a3a-4fbd-8720-b3fa77ddd59b",
   "metadata": {},
   "outputs": [
    {
     "data": {
      "text/html": [
       "<div>\n",
       "<style scoped>\n",
       "    .dataframe tbody tr th:only-of-type {\n",
       "        vertical-align: middle;\n",
       "    }\n",
       "\n",
       "    .dataframe tbody tr th {\n",
       "        vertical-align: top;\n",
       "    }\n",
       "\n",
       "    .dataframe thead th {\n",
       "        text-align: right;\n",
       "    }\n",
       "</style>\n",
       "<table border=\"1\" class=\"dataframe\">\n",
       "  <thead>\n",
       "    <tr style=\"text-align: right;\">\n",
       "      <th></th>\n",
       "      <th>Text</th>\n",
       "      <th>Topic 0 score</th>\n",
       "      <th>Topic 1 score</th>\n",
       "      <th>Topic</th>\n",
       "    </tr>\n",
       "  </thead>\n",
       "  <tbody>\n",
       "    <tr>\n",
       "      <th>0</th>\n",
       "      <td>Not much to write about here, but it does exac...</td>\n",
       "      <td>0.88</td>\n",
       "      <td>-0.22</td>\n",
       "      <td>0</td>\n",
       "    </tr>\n",
       "    <tr>\n",
       "      <th>1</th>\n",
       "      <td>The product does exactly as it should and is q...</td>\n",
       "      <td>1.19</td>\n",
       "      <td>-0.08</td>\n",
       "      <td>0</td>\n",
       "    </tr>\n",
       "    <tr>\n",
       "      <th>2</th>\n",
       "      <td>The primary job of this device is to block the...</td>\n",
       "      <td>1.03</td>\n",
       "      <td>-0.21</td>\n",
       "      <td>0</td>\n",
       "    </tr>\n",
       "    <tr>\n",
       "      <th>3</th>\n",
       "      <td>Nice windscreen protects my MXL mic and preven...</td>\n",
       "      <td>0.38</td>\n",
       "      <td>0.02</td>\n",
       "      <td>0</td>\n",
       "    </tr>\n",
       "    <tr>\n",
       "      <th>4</th>\n",
       "      <td>This pop filter is great. It looks and perform...</td>\n",
       "      <td>0.84</td>\n",
       "      <td>-0.20</td>\n",
       "      <td>0</td>\n",
       "    </tr>\n",
       "    <tr>\n",
       "      <th>5</th>\n",
       "      <td>So good that I bought another one.  Love the h...</td>\n",
       "      <td>1.24</td>\n",
       "      <td>-0.21</td>\n",
       "      <td>0</td>\n",
       "    </tr>\n",
       "    <tr>\n",
       "      <th>6</th>\n",
       "      <td>I have used monster cables for years, and with...</td>\n",
       "      <td>0.63</td>\n",
       "      <td>-0.04</td>\n",
       "      <td>0</td>\n",
       "    </tr>\n",
       "    <tr>\n",
       "      <th>7</th>\n",
       "      <td>I now use this cable to run from the output of...</td>\n",
       "      <td>3.95</td>\n",
       "      <td>-1.16</td>\n",
       "      <td>0</td>\n",
       "    </tr>\n",
       "    <tr>\n",
       "      <th>8</th>\n",
       "      <td>Perfect for my Epiphone Sheraton II.  Monster ...</td>\n",
       "      <td>0.39</td>\n",
       "      <td>-0.05</td>\n",
       "      <td>0</td>\n",
       "    </tr>\n",
       "    <tr>\n",
       "      <th>9</th>\n",
       "      <td>Monster makes the best cables and a lifetime w...</td>\n",
       "      <td>1.01</td>\n",
       "      <td>0.26</td>\n",
       "      <td>0</td>\n",
       "    </tr>\n",
       "  </tbody>\n",
       "</table>\n",
       "</div>"
      ],
      "text/plain": [
       "                                                Text  Topic 0 score  \\\n",
       "0  Not much to write about here, but it does exac...           0.88   \n",
       "1  The product does exactly as it should and is q...           1.19   \n",
       "2  The primary job of this device is to block the...           1.03   \n",
       "3  Nice windscreen protects my MXL mic and preven...           0.38   \n",
       "4  This pop filter is great. It looks and perform...           0.84   \n",
       "5  So good that I bought another one.  Love the h...           1.24   \n",
       "6  I have used monster cables for years, and with...           0.63   \n",
       "7  I now use this cable to run from the output of...           3.95   \n",
       "8  Perfect for my Epiphone Sheraton II.  Monster ...           0.39   \n",
       "9  Monster makes the best cables and a lifetime w...           1.01   \n",
       "\n",
       "   Topic 1 score  Topic  \n",
       "0          -0.22      0  \n",
       "1          -0.08      0  \n",
       "2          -0.21      0  \n",
       "3           0.02      0  \n",
       "4          -0.20      0  \n",
       "5          -0.21      0  \n",
       "6          -0.04      0  \n",
       "7          -1.16      0  \n",
       "8          -0.05      0  \n",
       "9           0.26      0  "
      ]
     },
     "execution_count": 15,
     "metadata": {},
     "output_type": "execute_result"
    }
   ],
   "source": [
    "df_topic.head(10)"
   ]
  },
  {
   "cell_type": "code",
   "execution_count": 14,
   "id": "36777f1f-4e53-448b-9597-a6b9717c2358",
   "metadata": {},
   "outputs": [
    {
     "name": "stdout",
     "output_type": "stream",
     "text": [
      "Sample text from topic 0:\n",
      " [\"This holder is spring loaded so it makes inserting and removing picks easy. It has a little sticky tab on the back so you can stick it to something (such at the side of back of your instrument) so you always know where your picks are and always have them on hand. I don't know exactly how many it holds, and the thickness of the picks makes a difference, but I've crammed quite a few of varying sizes in here without issues.\"]\n",
      "\n",
      "Sample text from topic 1:\n",
      " [\"For the money there isn't a better tuner on the market today.  This is the newer version which some have complained about the tuning lines being thicker, really?  This tuner is s[pot on every time and super fast.  You can move from string to string quick.\"]\n"
     ]
    }
   ],
   "source": [
    "# find a sample review from each topic\n",
    "df_topic0 = df_topic[df_topic['Topic'] == 0]\n",
    "df_topic1 = df_topic[df_topic['Topic']==1]\n",
    "print('Sample text from topic 0:\\n {}'.format(df_topic0.sample(1, random_state=2)['Text'].values))\n",
    "print('\\nSample text from topic 1:\\n {}'.format(df_topic1.sample(1, random_state=2)['Text'].values))"
   ]
  },
  {
   "cell_type": "code",
   "execution_count": null,
   "id": "a6e145cb-e98c-4602-8ec2-6bae003dbc76",
   "metadata": {},
   "outputs": [],
   "source": []
  }
 ],
 "metadata": {
  "kernelspec": {
   "display_name": "Python 3 (ipykernel)",
   "language": "python",
   "name": "python3"
  },
  "language_info": {
   "codemirror_mode": {
    "name": "ipython",
    "version": 3
   },
   "file_extension": ".py",
   "mimetype": "text/x-python",
   "name": "python",
   "nbconvert_exporter": "python",
   "pygments_lexer": "ipython3",
   "version": "3.9.13"
  }
 },
 "nbformat": 4,
 "nbformat_minor": 5
}
